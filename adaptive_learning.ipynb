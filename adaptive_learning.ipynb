{
 "cells": [
  {
   "cell_type": "markdown",
   "id": "a015fc1a",
   "metadata": {},
   "source": [
    "In this notebook we go through the adaptive learning process used for the paper. We provide several different approaches: \"IFT\", \"IL\", \"AL\", \"SML\", \"EWC\", \"GEM\", \"ALG\", \"eALG\", \"GIL\", \"Scratch\". For detailed explenations of the methods, we refer to the paper."
   ]
  },
  {
   "cell_type": "markdown",
   "id": "09965d80",
   "metadata": {},
   "source": [
    "This config can be modified to setup the experiment."
   ]
  },
  {
   "cell_type": "code",
   "execution_count": null,
   "id": "60881e88",
   "metadata": {},
   "outputs": [],
   "source": [
    "adaptive_learning_config = {\n",
    "    \"data\": {\n",
    "        \"folder\": \"data/target_data\"\n",
    "    },\n",
    "    \"training\": {\n",
    "        \"epochs\": 30\n",
    "    },\n",
    "    \"adaptive_learning\": {\n",
    "        \"number_of_years\": 5.1,\n",
    "        \"output_file_name\": \"test\"\n",
    "    }\n",
    "}"
   ]
  },
  {
   "cell_type": "markdown",
   "id": "661c3518",
   "metadata": {},
   "source": [
    "We can use this functionality to do all Adaptive Learning experiments at once. The results will be saved in a output folder. This folder contains the performance for each update interval and method. Also, a respective plot is generated."
   ]
  },
  {
   "cell_type": "code",
   "execution_count": null,
   "id": "0da8a47c",
   "metadata": {},
   "outputs": [],
   "source": [
    "# Import general dependencies\n",
    "from copy import deepcopy\n",
    "\n",
    "# Import project-specific dependencies\n",
    "from src.utils.adaptive_learning.run_adaptive_learning import run_adaptive_learning, update_config\n",
    "from src.utils.utilfunctions import read_config\n",
    "from src.plots.plot_over_update import plot_aggregated_errors_from_csv\n",
    "import json\n",
    "\n",
    "# Define setup\n",
    "update_periods = [1, 2, 3]         # update period in months\n",
    "modes = [\"IL\"]                 # Options: \"IFT\", \"IL\", \"AL\", \"SML\", \"EWC\", \"GEM\", \"ALG\", \"eALG\", \"GIL\", \"Scratch\"\n",
    "experiment_config = adaptive_learning_config\n",
    "\n",
    "# base config\n",
    "base_config_path = \"models/configs/al_base_config.json\"\n",
    "base_config = read_config(base_config_path)\n",
    "\n",
    "name = experiment_config[\"adaptive_learning\"][\"output_file_name\"]\n",
    "\n",
    "for k in range(len(modes)):\n",
    "    \n",
    "    experiment_config[\"adaptive_learning\"][\"mode\"] = modes[k]\n",
    "    experiment_name = name + f\"_{modes[k]}\"\n",
    "\n",
    "    for i in range(len(update_periods)):\n",
    "\n",
    "        # override the base config with the experiment config\n",
    "        config_ = deepcopy(base_config)\n",
    "        experiment_config[\"adaptive_learning\"][\"update_interval\"] = update_periods[i] * 2880\n",
    "        experiment_config[\"adaptive_learning\"][\"train_val_interval\"] = update_periods[i] * 2880\n",
    "        experiment_config[\"adaptive_learning\"][\"test_interval\"] = update_periods[i] * 2880\n",
    "\n",
    "        experiment_config[\"adaptive_learning\"][\"output_file_name\"] = experiment_name + f\"update_{update_periods[i]}_month\"\n",
    "        if \"adaptive_learning\" not in config_:\n",
    "            config_[\"adaptive_learning\"] = {}\n",
    "        config_ = update_config(config_, experiment_config)\n",
    "        try:\n",
    "            # run the continuous learning with i_th mode\n",
    "            output_path, update_steps = run_adaptive_learning(config_)\n",
    "            \n",
    "        except Exception as e:\n",
    "            print(f\"Skipping mode '{modes[k]}' with update_period '{update_periods[i]}' due to error: {e}\")\n",
    "            continue\n",
    "\n",
    "        # Save config and make plots\n",
    "        with open(f\"{output_path}/config.json\", \"w\") as f:\n",
    "            json.dump(experiment_config, f, indent=4)\n",
    "        \n",
    "        plot_aggregated_errors_from_csv(output_path + \"/errors.csv\", 'rmse', \n",
    "                                        num_update_steps=(update_steps+1), \n",
    "                                        output_path=output_path, \n",
    "                                        update_period=update_periods[i])\n"
   ]
  }
 ],
 "metadata": {
  "kernelspec": {
   "display_name": "cl",
   "language": "python",
   "name": "python3"
  },
  "language_info": {
   "codemirror_mode": {
    "name": "ipython",
    "version": 3
   },
   "file_extension": ".py",
   "mimetype": "text/x-python",
   "name": "python",
   "nbconvert_exporter": "python",
   "pygments_lexer": "ipython3",
   "version": "3.10.18"
  }
 },
 "nbformat": 4,
 "nbformat_minor": 5
}
